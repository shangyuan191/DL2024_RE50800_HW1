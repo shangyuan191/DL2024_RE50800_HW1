{
 "cells": [
  {
   "cell_type": "code",
   "execution_count": null,
   "id": "80a1b1a3",
   "metadata": {},
   "outputs": [
    {
     "name": "stdout",
     "output_type": "stream",
     "text": [
      "G\n"
     ]
    }
   ],
   "source": [
    "import cv2\n",
    "from sklearn.svm import SVC\n",
    "from sklearn.model_selection import train_test_split\n",
    "from sklearn.neighbors import KNeighborsClassifier\n",
    "from sklearn.ensemble import RandomForestClassifier\n",
    "from sklearn.metrics import classification_report, accuracy_score, f1_score\n",
    "import time\n",
    "import os\n",
    "import numpy as np\n",
    "from numpy import linalg as LA\n",
    "from FeatureExtraction import HOG, ColorHistogram, SIFT, build_vocabulary, bow_encoding\n",
    "print(\"GG\")"
   ]
  },
  {
   "cell_type": "code",
   "execution_count": null,
   "id": "416dbe09-3f83-4291-86b3-aa0075eaa3ae",
   "metadata": {},
   "outputs": [],
   "source": []
  }
 ],
 "metadata": {
  "kernelspec": {
   "display_name": "Python 3 (ipykernel)",
   "language": "python",
   "name": "python3"
  },
  "language_info": {
   "codemirror_mode": {
    "name": "ipython",
    "version": 3
   },
   "file_extension": ".py",
   "mimetype": "text/x-python",
   "name": "python",
   "nbconvert_exporter": "python",
   "pygments_lexer": "ipython3",
   "version": "3.11.5"
  }
 },
 "nbformat": 4,
 "nbformat_minor": 5
}
