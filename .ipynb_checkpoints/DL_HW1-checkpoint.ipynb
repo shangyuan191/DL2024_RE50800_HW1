{
 "cells": [
  {
   "cell_type": "code",
   "execution_count": 2,
   "id": "80a1b1a3",
   "metadata": {},
   "outputs": [
    {
     "name": "stdout",
     "output_type": "stream",
     "text": [
      "G\n"
     ]
    }
   ],
   "source": [
    "print(\"G\")"
   ]
  },
  {
   "cell_type": "code",
   "execution_count": 1,
   "id": "549d0ab6",
   "metadata": {},
   "outputs": [
    {
     "name": "stdout",
     "output_type": "stream",
     "text": [
      "GG\n"
     ]
    }
   ],
   "source": [
    "print(\"GG\")"
   ]
  },
  {
   "cell_type": "code",
   "execution_count": null,
   "id": "416dbe09-3f83-4291-86b3-aa0075eaa3ae",
   "metadata": {},
   "outputs": [],
   "source": []
  }
 ],
 "metadata": {
  "kernelspec": {
   "display_name": "Python 3 (ipykernel)",
   "language": "python",
   "name": "python3"
  },
  "language_info": {
   "codemirror_mode": {
    "name": "ipython",
    "version": 3
   },
   "file_extension": ".py",
   "mimetype": "text/x-python",
   "name": "python",
   "nbconvert_exporter": "python",
   "pygments_lexer": "ipython3",
   "version": "3.11.5"
  }
 },
 "nbformat": 4,
 "nbformat_minor": 5
}
